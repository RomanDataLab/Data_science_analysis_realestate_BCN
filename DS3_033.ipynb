{
 "cells": [
  {
   "cell_type": "code",
   "execution_count": 22,
   "id": "c520f7cb",
   "metadata": {},
   "outputs": [],
   "source": [
    "from bs4 import BeautifulSoup as bs\n",
    "import requests\n",
    "import pandas as pd\n",
    "from datetime import datetime\n",
    "import datetime\n",
    "import random\n",
    "import time\n",
    "import os\n",
    "import re\n",
    "\n",
    "from selenium import webdriver\n",
    "from selenium.webdriver.chrome.options import Options\n",
    "from selenium.webdriver.support.wait import WebDriverWait\n",
    "from selenium.webdriver.support import expected_conditions as EC\n",
    "from selenium.webdriver.common.by import By\n",
    "from selenium.webdriver.chrome.service import Service\n",
    "from selenium.common.exceptions import NoSuchElementException\n",
    "from selenium.common.exceptions import ElementNotInteractableException"
   ]
  },
  {
   "cell_type": "code",
   "execution_count": 25,
   "id": "3ca8538d",
   "metadata": {},
   "outputs": [],
   "source": [
    "options = Options()\n",
    "options.add_argument('disable-infobars')\n",
    "options.add_argument('start-maximized')\n",
    "options.add_argument(\"--disable-extensions\")\n",
    "options.add_argument('--incognito')\n",
    "options.add_argument('-headless')\n",
    "options.add_argument(\"--disable-gpu\")\n",
    "options.add_argument(\"--disable-dev-shm-usage\")\n",
    "options.add_argument(\"--no-sandbox\")\n",
    "service = Service(executable_path=r'C:\\distri plus\\chromedriver_win32\\chromedriver.exe')"
   ]
  },
  {
   "cell_type": "code",
   "execution_count": 26,
   "id": "af039dd4",
   "metadata": {},
   "outputs": [
    {
     "ename": "TimeoutException",
     "evalue": "Message: \nStacktrace:\nBacktrace:\n\tGetHandleVerifier [0x00348893+48451]\n\t(No symbol) [0x002DB8A1]\n\t(No symbol) [0x001E5058]\n\t(No symbol) [0x00210467]\n\t(No symbol) [0x0021069B]\n\t(No symbol) [0x0023DD92]\n\t(No symbol) [0x0022A304]\n\t(No symbol) [0x0023C482]\n\t(No symbol) [0x0022A0B6]\n\t(No symbol) [0x00207E08]\n\t(No symbol) [0x00208F2D]\n\tGetHandleVerifier [0x005A8E3A+2540266]\n\tGetHandleVerifier [0x005E8959+2801161]\n\tGetHandleVerifier [0x005E295C+2776588]\n\tGetHandleVerifier [0x003D2280+612144]\n\t(No symbol) [0x002E4F6C]\n\t(No symbol) [0x002E11D8]\n\t(No symbol) [0x002E12BB]\n\t(No symbol) [0x002D4857]\n\tBaseThreadInitThunk [0x766C00C9+25]\n\tRtlGetAppContainerNamedObjectPath [0x77447B4E+286]\n\tRtlGetAppContainerNamedObjectPath [0x77447B1E+238]\n",
     "output_type": "error",
     "traceback": [
      "\u001b[1;31m---------------------------------------------------------------------------\u001b[0m",
      "\u001b[1;31mTimeoutException\u001b[0m                          Traceback (most recent call last)",
      "\u001b[1;32m~\\AppData\\Local\\Temp\\ipykernel_14772\\579623108.py\u001b[0m in \u001b[0;36m<module>\u001b[1;34m\u001b[0m\n\u001b[0;32m     24\u001b[0m \u001b[1;33m\u001b[0m\u001b[0m\n\u001b[0;32m     25\u001b[0m     \u001b[1;31m# Wait for cookie accept button to be present and click it\u001b[0m\u001b[1;33m\u001b[0m\u001b[1;33m\u001b[0m\u001b[0m\n\u001b[1;32m---> 26\u001b[1;33m     \u001b[0mWebDriverWait\u001b[0m\u001b[1;33m(\u001b[0m\u001b[0mdriver\u001b[0m\u001b[1;33m,\u001b[0m \u001b[1;36m15\u001b[0m\u001b[1;33m)\u001b[0m\u001b[1;33m.\u001b[0m\u001b[0muntil\u001b[0m\u001b[1;33m(\u001b[0m\u001b[0mEC\u001b[0m\u001b[1;33m.\u001b[0m\u001b[0mpresence_of_element_located\u001b[0m\u001b[1;33m(\u001b[0m\u001b[1;33m(\u001b[0m\u001b[0mBy\u001b[0m\u001b[1;33m.\u001b[0m\u001b[0mCSS_SELECTOR\u001b[0m\u001b[1;33m,\u001b[0m\u001b[1;34m'didomi-components-button.didomi-button.didomi-dismiss-button.didomi-components-button--color.didomi-button-highlight.highlight-button'\u001b[0m\u001b[1;33m)\u001b[0m\u001b[1;33m)\u001b[0m\u001b[1;33m)\u001b[0m\u001b[1;33m.\u001b[0m\u001b[0mclick\u001b[0m\u001b[1;33m(\u001b[0m\u001b[1;33m)\u001b[0m\u001b[1;33m\u001b[0m\u001b[1;33m\u001b[0m\u001b[0m\n\u001b[0m\u001b[0;32m     27\u001b[0m     \u001b[0mwait\u001b[0m \u001b[1;33m=\u001b[0m \u001b[0mWebDriverWait\u001b[0m\u001b[1;33m(\u001b[0m\u001b[0mdriver\u001b[0m\u001b[1;33m,\u001b[0m \u001b[1;36m10\u001b[0m\u001b[1;33m)\u001b[0m\u001b[1;33m\u001b[0m\u001b[1;33m\u001b[0m\u001b[0m\n\u001b[0;32m     28\u001b[0m     \u001b[0mwait\u001b[0m\u001b[1;33m.\u001b[0m\u001b[0muntil\u001b[0m\u001b[1;33m(\u001b[0m\u001b[0mEC\u001b[0m\u001b[1;33m.\u001b[0m\u001b[0mpresence_of_element_located\u001b[0m\u001b[1;33m(\u001b[0m\u001b[1;33m(\u001b[0m\u001b[0mBy\u001b[0m\u001b[1;33m.\u001b[0m\u001b[0mCSS_SELECTOR\u001b[0m\u001b[1;33m,\u001b[0m \u001b[1;34m\"article.item:nth-child(2) > div:nth-child(2) > a:nth-child(2)\"\u001b[0m\u001b[1;33m)\u001b[0m\u001b[1;33m)\u001b[0m\u001b[1;33m)\u001b[0m\u001b[1;33m\u001b[0m\u001b[1;33m\u001b[0m\u001b[0m\n",
      "\u001b[1;32m~\\AppData\\Roaming\\Python\\Python39\\site-packages\\selenium\\webdriver\\support\\wait.py\u001b[0m in \u001b[0;36muntil\u001b[1;34m(self, method, message)\u001b[0m\n\u001b[0;32m     93\u001b[0m             \u001b[1;32mif\u001b[0m \u001b[0mtime\u001b[0m\u001b[1;33m.\u001b[0m\u001b[0mmonotonic\u001b[0m\u001b[1;33m(\u001b[0m\u001b[1;33m)\u001b[0m \u001b[1;33m>\u001b[0m \u001b[0mend_time\u001b[0m\u001b[1;33m:\u001b[0m\u001b[1;33m\u001b[0m\u001b[1;33m\u001b[0m\u001b[0m\n\u001b[0;32m     94\u001b[0m                 \u001b[1;32mbreak\u001b[0m\u001b[1;33m\u001b[0m\u001b[1;33m\u001b[0m\u001b[0m\n\u001b[1;32m---> 95\u001b[1;33m         \u001b[1;32mraise\u001b[0m \u001b[0mTimeoutException\u001b[0m\u001b[1;33m(\u001b[0m\u001b[0mmessage\u001b[0m\u001b[1;33m,\u001b[0m \u001b[0mscreen\u001b[0m\u001b[1;33m,\u001b[0m \u001b[0mstacktrace\u001b[0m\u001b[1;33m)\u001b[0m\u001b[1;33m\u001b[0m\u001b[1;33m\u001b[0m\u001b[0m\n\u001b[0m\u001b[0;32m     96\u001b[0m \u001b[1;33m\u001b[0m\u001b[0m\n\u001b[0;32m     97\u001b[0m     \u001b[1;32mdef\u001b[0m \u001b[0muntil_not\u001b[0m\u001b[1;33m(\u001b[0m\u001b[0mself\u001b[0m\u001b[1;33m,\u001b[0m \u001b[0mmethod\u001b[0m\u001b[1;33m,\u001b[0m \u001b[0mmessage\u001b[0m\u001b[1;33m:\u001b[0m \u001b[0mstr\u001b[0m \u001b[1;33m=\u001b[0m \u001b[1;34m\"\"\u001b[0m\u001b[1;33m)\u001b[0m\u001b[1;33m:\u001b[0m\u001b[1;33m\u001b[0m\u001b[1;33m\u001b[0m\u001b[0m\n",
      "\u001b[1;31mTimeoutException\u001b[0m: Message: \nStacktrace:\nBacktrace:\n\tGetHandleVerifier [0x00348893+48451]\n\t(No symbol) [0x002DB8A1]\n\t(No symbol) [0x001E5058]\n\t(No symbol) [0x00210467]\n\t(No symbol) [0x0021069B]\n\t(No symbol) [0x0023DD92]\n\t(No symbol) [0x0022A304]\n\t(No symbol) [0x0023C482]\n\t(No symbol) [0x0022A0B6]\n\t(No symbol) [0x00207E08]\n\t(No symbol) [0x00208F2D]\n\tGetHandleVerifier [0x005A8E3A+2540266]\n\tGetHandleVerifier [0x005E8959+2801161]\n\tGetHandleVerifier [0x005E295C+2776588]\n\tGetHandleVerifier [0x003D2280+612144]\n\t(No symbol) [0x002E4F6C]\n\t(No symbol) [0x002E11D8]\n\t(No symbol) [0x002E12BB]\n\t(No symbol) [0x002D4857]\n\tBaseThreadInitThunk [0x766C00C9+25]\n\tRtlGetAppContainerNamedObjectPath [0x77447B4E+286]\n\tRtlGetAppContainerNamedObjectPath [0x77447B1E+238]\n"
     ]
    }
   ],
   "source": [
    "driver = webdriver.Chrome(service=service, options=options)\n",
    "base_url = \"https://www.idealista.com/venta-viviendas/barcelona-provincia/pagina-{}.htm\"\n",
    "\n",
    "# Create empty lists to store the scraped data\n",
    "titles = []\n",
    "prices = []\n",
    "old_prices = []\n",
    "habitations = []\n",
    "areas = []\n",
    "descriptions = []\n",
    "\n",
    "# Iterate over the range of pages (2 to 10)\n",
    "for i in range(2, 11):\n",
    "    # Construct the URL for the current page\n",
    "    url = base_url.format(i)\n",
    "    \n",
    "    # Load the webpage\n",
    "    driver.get(url)\n",
    "    scroll_pixels = random.randint(10, 88)\n",
    "    driver.execute_script(f\"window.scrollBy(0, {scroll_pixels})\")\n",
    "    # Wait for a random duration between 2 to 18 seconds\n",
    "    wait_duration = random.randint(2, 18)\n",
    "    time.sleep(wait_duration)\n",
    "    \n",
    "    # Wait for cookie accept button to be present and click it\n",
    "    WebDriverWait(driver, 15).until(EC.presence_of_element_located((By.CSS_SELECTOR,'didomi-components-button.didomi-button.didomi-dismiss-button.didomi-components-button--color.didomi-button-highlight.highlight-button'))).click() \n",
    "    wait = WebDriverWait(driver, 10)\n",
    "    wait.until(EC.presence_of_element_located((By.CSS_SELECTOR, \"article.item:nth-child(2) > div:nth-child(2) > a:nth-child(2)\")))\n",
    "    \n",
    "    # Find and extract the desired information using CSS selectors\n",
    "    titles.extend([element.text for element in driver.find_element(By.CSS_SELECTOR,\"article.item:nth-child(2) > div:nth-child(2) > a:nth-child(2)\")])\n",
    "    \n",
    "    \n",
    "    prices.extend([element.text for element in driver.find_element(By.CSS_SELECTOR,\"article.item:nth-child(4) > div:nth-child(2) > div:nth-child(3) > span:nth-child(1)\")])\n",
    "    old_prices.extend([element.text for element in driver.find_element(By.CSS_SELECTOR,\"article.item:nth-child(4) > div:nth-child(2) > div:nth-child(3) > span:nth-child(3) > span:nth-child(1)\")])\n",
    "    habitations.extend([element.text for element in driver.find_element(By.CSS_SELECTOR,\"article.item:nth-child(4) > div:nth-child(2) > div:nth-child(4) > span:nth-child(1)\")])\n",
    "    areas.extend([element.text for element in driver.find_element(By.CSS_SELECTOR,\"article.item:nth-child(6) > div:nth-child(2) > div:nth-child(4) > span:nth-child(2)\")])\n",
    "    descriptions.extend([element.text for element in driver.find_element(By.CSS_SELECTOR,\"article.item:nth-child(4) > div:nth-child(2) > div:nth-child(5) > p:nth-child(1)\")])\n",
    "    \n",
    "    \n",
    "# Create a DataFrame from the scraped data\n",
    "df = pd.DataFrame({\n",
    "    'title': titles,\n",
    "    'price': prices,\n",
    "    'priceold': old_prices,\n",
    "    'hab': habitations,\n",
    "    'gfa': areas,\n",
    "    'txt': descriptions\n",
    "})\n",
    "\n",
    "# Close the ChromeDriver\n",
    "driver.quit()\n",
    "df.head()"
   ]
  },
  {
   "cell_type": "code",
   "execution_count": null,
   "id": "e4cd416f",
   "metadata": {},
   "outputs": [],
   "source": []
  }
 ],
 "metadata": {
  "kernelspec": {
   "display_name": "Python 3 (ipykernel)",
   "language": "python",
   "name": "python3"
  },
  "language_info": {
   "codemirror_mode": {
    "name": "ipython",
    "version": 3
   },
   "file_extension": ".py",
   "mimetype": "text/x-python",
   "name": "python",
   "nbconvert_exporter": "python",
   "pygments_lexer": "ipython3",
   "version": "3.9.13"
  }
 },
 "nbformat": 4,
 "nbformat_minor": 5
}
